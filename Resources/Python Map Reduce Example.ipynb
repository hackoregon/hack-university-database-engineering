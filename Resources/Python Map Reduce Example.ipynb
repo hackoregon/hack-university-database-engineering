{
 "cells": [
  {
   "cell_type": "markdown",
   "metadata": {},
   "source": [
    "This is a python 3 notebook that does not use any exotic libraries."
   ]
  },
  {
   "cell_type": "code",
   "execution_count": null,
   "metadata": {
    "collapsed": true
   },
   "outputs": [],
   "source": [
    "\"\"\"\n",
    "This function behaves the same as the built in map function (except that this materializes the iterator and the build in one doesn't)\n",
    "\"\"\"\n",
    "def standardMap(f, seq):\n",
    "    return [f(x) for x in seq]"
   ]
  },
  {
   "cell_type": "code",
   "execution_count": null,
   "metadata": {
    "collapsed": true
   },
   "outputs": [],
   "source": [
    "from random import shuffle\n",
    "\"\"\"\n",
    "This function randomizes the order of the data passed in and then returns the list the results from applying the \n",
    "passed in function to each element of the shuffled list.\n",
    "\"\"\"\n",
    "def randomMap(f, seq):\n",
    "    retval = [x for x in seq]\n",
    "    shuffle(retval)\n",
    "    return [f(x) for x in retval]"
   ]
  },
  {
   "cell_type": "code",
   "execution_count": null,
   "metadata": {
    "collapsed": true
   },
   "outputs": [],
   "source": [
    "\"\"\"\n",
    "Show results of the three different map functions at our disposal.\n",
    "\"\"\"\n",
    "def tryDifferentMaps(f, seq):\n",
    "    print(\"builtin: \" + str([x for x in map(f, seq)]))\n",
    "    print(\"standard: \" + str(standardMap(f, seq)))\n",
    "    print(\"random: \" + str(randomMap(f, seq)))"
   ]
  },
  {
   "cell_type": "code",
   "execution_count": null,
   "metadata": {
    "collapsed": false
   },
   "outputs": [],
   "source": [
    "f = lambda x: x + 1\n",
    "tryDifferentMaps(f, range(1, 5))"
   ]
  },
  {
   "cell_type": "code",
   "execution_count": null,
   "metadata": {
    "collapsed": false
   },
   "outputs": [],
   "source": [
    "\"\"\"\n",
    "This function is equivalent to the built in reduce function\n",
    "\"\"\"\n",
    "def standardReduce(f, seq):\n",
    "    curval = seq[0]\n",
    "    for newval in seq[1:]:\n",
    "        curval = f(curval, newval)\n",
    "    return curval"
   ]
  },
  {
   "cell_type": "code",
   "execution_count": null,
   "metadata": {
    "collapsed": true
   },
   "outputs": [],
   "source": [
    "\"\"\"\n",
    "This function is similar to the built in reduce function, but it shuffles the sequence before operating on it.\n",
    "This is comparable to the problem faced when working on multiple processes/computers in parallel.\n",
    "\"\"\"\n",
    "def randomReduce(f, seq):\n",
    "    rseq = [x for x in seq]\n",
    "    shuffle(rseq)\n",
    "    curval = rseq[0]\n",
    "    for newval in rseq[1:]:\n",
    "        curval = f(curval, newval)\n",
    "    return curval"
   ]
  },
  {
   "cell_type": "code",
   "execution_count": null,
   "metadata": {
    "collapsed": false
   },
   "outputs": [],
   "source": [
    "from functools import reduce"
   ]
  },
  {
   "cell_type": "code",
   "execution_count": null,
   "metadata": {
    "collapsed": false
   },
   "outputs": [],
   "source": [
    "\"\"\"\n",
    "Show results of the three different reduce functions at our disposal.\n",
    "\"\"\"\n",
    "def tryDifferentReductions(f, seq):\n",
    "    print(\"builtin: \" + str(reduce(f, seq)))\n",
    "    print(\"standard: \" + str(standardReduce(f, seq)))\n",
    "    print(\"random: \" + str(randomReduce(f, seq)))"
   ]
  },
  {
   "cell_type": "code",
   "execution_count": null,
   "metadata": {
    "collapsed": false
   },
   "outputs": [],
   "source": [
    "f = lambda x, y: x*y # a commutative function\n",
    "tryDifferentReductions(f, range(2,6))"
   ]
  },
  {
   "cell_type": "code",
   "execution_count": null,
   "metadata": {
    "collapsed": false
   },
   "outputs": [],
   "source": [
    "f = lambda x, y: pow(x,y) # a non-commutative function\n",
    "tryDifferentReductions(f, range(2,6))"
   ]
  },
  {
   "cell_type": "code",
   "execution_count": null,
   "metadata": {
    "collapsed": false
   },
   "outputs": [],
   "source": [
    "f = lambda x, y: x+\" \"+y # another non-commutative function\n",
    "tryDifferentReductions(f, \"this is a sentence\".split())"
   ]
  },
  {
   "cell_type": "code",
   "execution_count": null,
   "metadata": {
    "collapsed": false
   },
   "outputs": [],
   "source": [
    "\"\"\"\n",
    "The simplest version of map reduce that I could show.  This version does not account for the shuffle step, which would be\n",
    "necessary to do a hash join efficiently.\n",
    "\"\"\"\n",
    "def simpleMapReduce(mapFunc, reduceFunc, seq):\n",
    "    return randomReduce(reduceFunc, randomMap(mapFunc, seq))\n",
    "    "
   ]
  },
  {
   "cell_type": "code",
   "execution_count": null,
   "metadata": {
    "collapsed": false
   },
   "outputs": [],
   "source": [
    "mapFunc = lambda x:x\n",
    "reduceFunc = lambda x,y: x+y\n",
    "simpleMapReduce(mapFunc, reduceFunc, range(1,10))"
   ]
  },
  {
   "cell_type": "code",
   "execution_count": null,
   "metadata": {
    "collapsed": false
   },
   "outputs": [],
   "source": [
    "\"\"\"\n",
    "This is similar to the simple map reduce algorithm above, but it breaks the data apart and does each subset on its \n",
    "own before recombining everything together at the end.\n",
    "\"\"\"\n",
    "def randomMapReduce(mapFunc, reduceFunc, seq):\n",
    "    workingList = [] #this variable will hold intermediate results after doing the first round of reduction operations.\n",
    "    \n",
    "    #break the input sequence up and treat each operation as if it's happening in parallel.\n",
    "    sizePerChunk = 4\n",
    "    def chunks():\n",
    "        for i in range(0, len(seq), sizePerChunk):\n",
    "            yield seq[i:i+sizePerChunk]\n",
    "            \n",
    "    chunkedList = list(chunks()) #chunkedList now holds a list of lists.\n",
    "    \n",
    "    #run reduce on each of the chunks and store the results of those operations in workingList\n",
    "    for i in range(len(chunkedList)):\n",
    "        workingList.append(simpleMapReduce( mapFunc, reduceFunc, chunkedList[i]))\n",
    "    \n",
    "    #once the parallel operations have been done, do the last combination task.\n",
    "    return randomReduce(reduceFunc, workingList)"
   ]
  },
  {
   "cell_type": "code",
   "execution_count": null,
   "metadata": {
    "collapsed": false
   },
   "outputs": [],
   "source": [
    "mapFunc = lambda x:x\n",
    "reduceFunc = lambda x,y: x+y\n",
    "randomMapReduce(mapFunc, reduceFunc, range(1,10))"
   ]
  },
  {
   "cell_type": "code",
   "execution_count": null,
   "metadata": {
    "collapsed": false
   },
   "outputs": [],
   "source": [
    "\"\"\"\n",
    "This function accepts two sorted lists and the comparison operator used to sort them and efficiently combines them into a \n",
    "single sorted list\n",
    "\"\"\"\n",
    "def mergeLists (left, right, comparator):\n",
    "    retval = []\n",
    "    leftPointer = 0\n",
    "    rightPointer = 0\n",
    "    while leftPointer+rightPointer < len(left)+len(right):\n",
    "        #print(\"leftPointer: %i, rightPointer: %i\"%(leftPointer, rightPointer))\n",
    "        if leftPointer > len(left)-1: #did we fall off the end on the left\n",
    "            retval.append(right[rightPointer])\n",
    "            rightPointer += 1\n",
    "        elif rightPointer > len(right)-1: #did we fall off the end on the right\n",
    "            retval.append(left[leftPointer])\n",
    "            leftPointer += 1\n",
    "        elif comparator(left[leftPointer], right[rightPointer]): #is the left value \">\" the right value\n",
    "            retval.append(left[leftPointer])\n",
    "            leftPointer += 1\n",
    "        else:\n",
    "            retval.append(right[rightPointer]) #the left value is not \">\" the right value\n",
    "            rightPointer += 1\n",
    "    return retval"
   ]
  },
  {
   "cell_type": "code",
   "execution_count": null,
   "metadata": {
    "collapsed": false
   },
   "outputs": [],
   "source": [
    "mapFunc = lambda x:[x]\n",
    "reduceFunc = lambda x,y: mergeLists(x, y, lambda x, y: x<y)\n",
    "simpleMapReduce(mapFunc, reduceFunc, range(1,10))"
   ]
  },
  {
   "cell_type": "code",
   "execution_count": null,
   "metadata": {
    "collapsed": false
   },
   "outputs": [],
   "source": [
    "mapFunc = lambda x:[x]\n",
    "reduceFunc = lambda x,y: mergeLists(x, y, lambda x, y: x>y)\n",
    "simpleMapReduce(mapFunc, reduceFunc, range(1,10))"
   ]
  },
  {
   "cell_type": "code",
   "execution_count": null,
   "metadata": {
    "collapsed": false
   },
   "outputs": [],
   "source": [
    "#1. Write map reduce to count the letters in the sentence 'This is pretty cool.'  \n"
   ]
  },
  {
   "cell_type": "code",
   "execution_count": null,
   "metadata": {
    "collapsed": false
   },
   "outputs": [],
   "source": [
    "#2. Write map reduce to get the count of words of each length in the above sentence.\n",
    "\n"
   ]
  }
 ],
 "metadata": {
  "anaconda-cloud": {},
  "kernelspec": {
   "display_name": "Python [default]",
   "language": "python",
   "name": "python3"
  },
  "language_info": {
   "codemirror_mode": {
    "name": "ipython",
    "version": 3
   },
   "file_extension": ".py",
   "mimetype": "text/x-python",
   "name": "python",
   "nbconvert_exporter": "python",
   "pygments_lexer": "ipython3",
   "version": "3.5.2"
  }
 },
 "nbformat": 4,
 "nbformat_minor": 0
}
